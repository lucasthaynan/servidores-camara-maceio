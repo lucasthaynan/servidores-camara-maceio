{
  "nbformat": 4,
  "nbformat_minor": 0,
  "metadata": {
    "colab": {
      "name": "web scraping - servidores camara maceio",
      "provenance": [],
      "include_colab_link": true
    },
    "kernelspec": {
      "name": "python3",
      "display_name": "Python 3"
    },
    "language_info": {
      "name": "python"
    }
  },
  "cells": [
    {
      "cell_type": "markdown",
      "metadata": {
        "id": "view-in-github",
        "colab_type": "text"
      },
      "source": [
        "<a href=\"https://colab.research.google.com/github/lucasthaynan/servidores-camara-maceio/blob/main/web_scraping.ipynb\" target=\"_parent\"><img src=\"https://colab.research.google.com/assets/colab-badge.svg\" alt=\"Open In Colab\"/></a>"
      ]
    },
    {
      "cell_type": "markdown",
      "metadata": {
        "id": "c0sUZQnKPOca"
      },
      "source": [
        "## Raspando dados das páginas de remuneração dos servidores da Câmara Municipal de Maceió (AL)\n",
        "https://www.maceio.al.leg.br/transparencia/portal/salarios-subsidios"
      ]
    },
    {
      "cell_type": "markdown",
      "metadata": {
        "id": "t4W2mpUBSxiR"
      },
      "source": [
        "Instalando a biblioteca `tdqm` que permite adicionar uma barra de progresso ao executar um for "
      ]
    },
    {
      "cell_type": "code",
      "metadata": {
        "id": "7cQpwwjqkB_k",
        "colab": {
          "base_uri": "https://localhost:8080/"
        },
        "outputId": "007e0bcc-0618-45c2-a097-8a8c3c4dc4a5"
      },
      "source": [
        "!pip install tqdm"
      ],
      "execution_count": null,
      "outputs": [
        {
          "output_type": "stream",
          "name": "stdout",
          "text": [
            "Requirement already satisfied: tqdm in /usr/local/lib/python3.7/dist-packages (4.62.3)\n"
          ]
        }
      ]
    },
    {
      "cell_type": "code",
      "metadata": {
        "id": "9mgK67iQHWc3"
      },
      "source": [
        "import requests\n",
        "import re\n",
        "import pandas as pd\n",
        "\n",
        "from tqdm import tqdm "
      ],
      "execution_count": null,
      "outputs": []
    },
    {
      "cell_type": "markdown",
      "metadata": {
        "id": "566Nqm7YTitB"
      },
      "source": [
        "Acessando a lista de páginas e coletando os links referentes a cada pagamento mensal dos servidores e gerando uma lista com todos os links."
      ]
    },
    {
      "cell_type": "code",
      "metadata": {
        "id": "5GyfXRPgd0x-"
      },
      "source": [
        "\n",
        "def pega_links_servidores(paginas=1):\n",
        "  \"\"\"Função que percorre as páginas e gera uma lista de links dos servidores\"\"\" # docstring\n",
        "  \n",
        "  lista_paginacao = list(range(1, (paginas + 1))) # cria sequência de números [1, 2, 3,...]\n",
        "\n",
        "  lista_links = []\n",
        "  for pagina in tqdm(lista_paginacao):\n",
        "    url = f\"https://www.maceio.al.leg.br/transparencia/portal/salarios-subsidios&pagina={pagina}\"\n",
        "    resposta = requests.get(url)\n",
        "    html = resposta.text\n",
        "\n",
        "    links_pagina = re.findall(\"location.href = '([^']+)';\", html)\n",
        "    lista_links = links_pagina + lista_links\n",
        "    \n",
        "  return lista_links\n",
        "  "
      ],
      "execution_count": null,
      "outputs": []
    },
    {
      "cell_type": "code",
      "metadata": {
        "colab": {
          "base_uri": "https://localhost:8080/"
        },
        "id": "PipWvKs4KVw4",
        "outputId": "9b069fcb-16ae-42aa-84aa-100721954a3e"
      },
      "source": [
        "# chamando a função e passando a quantidade de páginas da requisição\n",
        "todos_os_links = pega_links_servidores(1)\n",
        "\n",
        "todos_os_links"
      ],
      "execution_count": 139,
      "outputs": [
        {
          "output_type": "stream",
          "name": "stderr",
          "text": [
            "100%|██████████| 1/1 [00:01<00:00,  1.76s/it]\n"
          ]
        },
        {
          "output_type": "execute_result",
          "data": {
            "text/plain": [
              "['https://www.maceio.al.leg.br/transparencia/portal/salarios-subsidios-detalhes&matricula=100945&mes=9&ano=2021',\n",
              " 'https://www.maceio.al.leg.br/transparencia/portal/salarios-subsidios-detalhes&matricula=101159&mes=9&ano=2021',\n",
              " 'https://www.maceio.al.leg.br/transparencia/portal/salarios-subsidios-detalhes&matricula=100734&mes=9&ano=2021',\n",
              " 'https://www.maceio.al.leg.br/transparencia/portal/salarios-subsidios-detalhes&matricula=100664&mes=9&ano=2021',\n",
              " 'https://www.maceio.al.leg.br/transparencia/portal/salarios-subsidios-detalhes&matricula=100869&mes=9&ano=2021',\n",
              " 'https://www.maceio.al.leg.br/transparencia/portal/salarios-subsidios-detalhes&matricula=101116&mes=9&ano=2021',\n",
              " 'https://www.maceio.al.leg.br/transparencia/portal/salarios-subsidios-detalhes&matricula=100739&mes=9&ano=2021',\n",
              " 'https://www.maceio.al.leg.br/transparencia/portal/salarios-subsidios-detalhes&matricula=100979&mes=9&ano=2021',\n",
              " 'https://www.maceio.al.leg.br/transparencia/portal/salarios-subsidios-detalhes&matricula=100683&mes=9&ano=2021',\n",
              " 'https://www.maceio.al.leg.br/transparencia/portal/salarios-subsidios-detalhes&matricula=15&mes=9&ano=2021',\n",
              " 'https://www.maceio.al.leg.br/transparencia/portal/salarios-subsidios-detalhes&matricula=100836&mes=9&ano=2021',\n",
              " 'https://www.maceio.al.leg.br/transparencia/portal/salarios-subsidios-detalhes&matricula=101045&mes=9&ano=2021',\n",
              " 'https://www.maceio.al.leg.br/transparencia/portal/salarios-subsidios-detalhes&matricula=92236&mes=9&ano=2021',\n",
              " 'https://www.maceio.al.leg.br/transparencia/portal/salarios-subsidios-detalhes&matricula=92212&mes=9&ano=2021',\n",
              " 'https://www.maceio.al.leg.br/transparencia/portal/salarios-subsidios-detalhes&matricula=2155&mes=9&ano=2021',\n",
              " 'https://www.maceio.al.leg.br/transparencia/portal/salarios-subsidios-detalhes&matricula=100793&mes=9&ano=2021',\n",
              " 'https://www.maceio.al.leg.br/transparencia/portal/salarios-subsidios-detalhes&matricula=101030&mes=9&ano=2021',\n",
              " 'https://www.maceio.al.leg.br/transparencia/portal/salarios-subsidios-detalhes&matricula=100999&mes=9&ano=2021',\n",
              " 'https://www.maceio.al.leg.br/transparencia/portal/salarios-subsidios-detalhes&matricula=18&mes=9&ano=2021',\n",
              " 'https://www.maceio.al.leg.br/transparencia/portal/salarios-subsidios-detalhes&matricula=2146&mes=9&ano=2021']"
            ]
          },
          "metadata": {},
          "execution_count": 139
        }
      ]
    },
    {
      "cell_type": "markdown",
      "metadata": {
        "id": "q99lnomcTvXw"
      },
      "source": [
        "Acessando cada uma das páginas dos servidores e coletando as informações de pagamento."
      ]
    },
    {
      "cell_type": "code",
      "metadata": {
        "id": "szT7x71KToiX"
      },
      "source": [
        "\n",
        "def raspador():\n",
        "  \"\"\"Função que percorre os links da lista e extrai as informações dos servidores\"\"\"\n",
        "\n",
        "  def convert_moeda_float(valor):\n",
        "    \"\"\"Função que transforma valores em float\"\"\"\n",
        "\n",
        "    valor = valor[1].replace(\"R$ \", \"\").replace(\".\", \"\").replace(\",\", \".\")\n",
        "    valor = float(valor)\n",
        "    return valor\n",
        "\n",
        "  \n",
        "  lista_pag_servidores = []\n",
        "\n",
        "  # percorrendo a lista de links e extraindo o html  \n",
        "  for link in tqdm(todos_os_links): \n",
        "    resposta = requests.get(link)\n",
        "    html = resposta.text\n",
        "    partes = html.split(\"</td>\") # divindo o html em partes e salvando em uma lista \"partes\"\n",
        "\n",
        "    # salvando valores em variáveis\n",
        "    matricula = partes[1].split(\"td>\")     \n",
        "    referencia = partes[3].split(\"td>\") \n",
        "    vinculo = partes[5].split(\"td>\")\n",
        "    servidor = partes[7].split(\"td>\")\n",
        "    cargo = partes[9].split(\"td>\")\n",
        "    cpf = partes[11].split(\"td>\")\n",
        "    lotacao = partes[13].split(\"td>\")\n",
        "\n",
        "    remuneracao = partes[15].split(\"td>\")\n",
        "    remuneracao = convert_moeda_float(partes[15].split(\"td>\"))\n",
        "\n",
        "    abono = partes[17].split(\"td>\")\n",
        "    abono = convert_moeda_float(partes[17].split(\"td>\"))\n",
        "\n",
        "    eventuais = partes[19].split(\"td>\")\n",
        "    eventuais = convert_moeda_float(partes[19].split(\"td>\"))\n",
        "\n",
        "    desconto = partes[21].split(\"td>\")\n",
        "    desconto = convert_moeda_float(desconto)\n",
        "\n",
        "    salario_liquido = partes[23].split(\"td>\")\n",
        "    salario_liquido = convert_moeda_float(salario_liquido)\n",
        "\n",
        "    lista_pag_servidores.append({\n",
        "      \"matricula\": matricula[1],\n",
        "      \"referencia\": referencia[1],\n",
        "      \"vinculo\": vinculo[1],\n",
        "      \"servidor\": servidor[1],\n",
        "      \"cargo\": cargo[1],\n",
        "      \"cpf\": cpf[1],\n",
        "      \"lotacao\": lotacao[1],\n",
        "      \"remuneracao\": remuneracao,\n",
        "      \"abono\": abono,\n",
        "      \"eventuais\": eventuais,\n",
        "      \"desconto\": desconto,\n",
        "      \"salario_liquido\": salario_liquido\n",
        "    }) \n",
        "  \n",
        "  return lista_pag_servidores\n",
        "\n"
      ],
      "execution_count": 141,
      "outputs": []
    },
    {
      "cell_type": "code",
      "metadata": {
        "id": "IjDWoynlP9of",
        "colab": {
          "base_uri": "https://localhost:8080/"
        },
        "outputId": "23b306ef-837d-4d2f-8311-310f7c9a96e0"
      },
      "source": [
        "dados_servidores = raspador()\n",
        "dados_servidores"
      ],
      "execution_count": 142,
      "outputs": [
        {
          "output_type": "stream",
          "name": "stderr",
          "text": [
            "100%|██████████| 20/20 [00:18<00:00,  1.06it/s]\n"
          ]
        },
        {
          "output_type": "execute_result",
          "data": {
            "text/plain": [
              "[{'abono': 0.0,\n",
              "  'cargo': 'SECRETARIO PARLAMENTAR',\n",
              "  'cpf': '***52424',\n",
              "  'desconto': 301.6,\n",
              "  'eventuais': 0.0,\n",
              "  'lotacao': 'COMISSIONADO - GABINETE',\n",
              "  'matricula': '00100945',\n",
              "  'referencia': '09 / 2021',\n",
              "  'remuneracao': 2800.0,\n",
              "  'salario_liquido': 2498.4,\n",
              "  'servidor': 'ADAM DA SILVA SOUZA',\n",
              "  'vinculo': 'CARGO COMISSIONADO'},\n",
              " {'abono': 0.0,\n",
              "  'cargo': 'SECRETARIO PARLAMENTAR',\n",
              "  'cpf': '***40434',\n",
              "  'desconto': 118.5,\n",
              "  'eventuais': 0.0,\n",
              "  'lotacao': 'COMISSIONADO - GABINETE',\n",
              "  'matricula': '00101159',\n",
              "  'referencia': '09 / 2021',\n",
              "  'remuneracao': 1551.27,\n",
              "  'salario_liquido': 1432.77,\n",
              "  'servidor': 'ADEILDO DE MIRANDA',\n",
              "  'vinculo': 'CARGO COMISSIONADO'},\n",
              " {'abono': 0.0,\n",
              "  'cargo': 'SECRETARIO PARLAMENTAR',\n",
              "  'cpf': '***13420',\n",
              "  'desconto': 82.5,\n",
              "  'eventuais': 0.0,\n",
              "  'lotacao': 'COMISSIONADO - GABINETE',\n",
              "  'matricula': '00100734',\n",
              "  'referencia': '09 / 2021',\n",
              "  'remuneracao': 1100.0,\n",
              "  'salario_liquido': 1017.5,\n",
              "  'servidor': 'ADEILSON MARTINS SILVA',\n",
              "  'vinculo': 'CARGO COMISSIONADO'},\n",
              " {'abono': 0.0,\n",
              "  'cargo': 'SECRETARIO PARLAMENTAR',\n",
              "  'cpf': '***92400',\n",
              "  'desconto': 118.5,\n",
              "  'eventuais': 0.0,\n",
              "  'lotacao': 'COMISSIONADO - GABINETE',\n",
              "  'matricula': '00100664',\n",
              "  'referencia': '09 / 2021',\n",
              "  'remuneracao': 1500.0,\n",
              "  'salario_liquido': 1381.5,\n",
              "  'servidor': 'ADENILSON ALVES DA SILVA',\n",
              "  'vinculo': 'CARGO COMISSIONADO'},\n",
              " {'abono': 0.0,\n",
              "  'cargo': 'SECRETARIO PARLAMENTAR',\n",
              "  'cpf': '***30478',\n",
              "  'desconto': 287.38,\n",
              "  'eventuais': 0.0,\n",
              "  'lotacao': 'COMISSIONADO - GABINETE',\n",
              "  'matricula': '00100869',\n",
              "  'referencia': '09 / 2021',\n",
              "  'remuneracao': 2800.0,\n",
              "  'salario_liquido': 2512.62,\n",
              "  'servidor': 'ADILMA CANTILINO SUTARELI',\n",
              "  'vinculo': 'CARGO COMISSIONADO'},\n",
              " {'abono': 0.0,\n",
              "  'cargo': 'SECRETARIO PARLAMENTAR',\n",
              "  'cpf': '***09449',\n",
              "  'desconto': 1463.33,\n",
              "  'eventuais': 0.0,\n",
              "  'lotacao': 'COMISSIONADO - GABINETE',\n",
              "  'matricula': '00101116',\n",
              "  'referencia': '09 / 2021',\n",
              "  'remuneracao': 6500.0,\n",
              "  'salario_liquido': 5036.67,\n",
              "  'servidor': 'ADILSON OLEGARIO REGO',\n",
              "  'vinculo': 'CARGO COMISSIONADO'},\n",
              " {'abono': 0.0,\n",
              "  'cargo': 'SECRETARIO PARLAMENTAR',\n",
              "  'cpf': '***68404',\n",
              "  'desconto': 916.12,\n",
              "  'eventuais': 0.0,\n",
              "  'lotacao': 'COMISSIONADO - GABINETE',\n",
              "  'matricula': '00100739',\n",
              "  'referencia': '09 / 2021',\n",
              "  'remuneracao': 5000.0,\n",
              "  'salario_liquido': 4083.88,\n",
              "  'servidor': 'ADRIANA CRISTINA BRAGA DA SILVA',\n",
              "  'vinculo': 'CARGO COMISSIONADO'},\n",
              " {'abono': 0.0,\n",
              "  'cargo': 'SECRETARIO PARLAMENTAR',\n",
              "  'cpf': '***07484',\n",
              "  'desconto': 245.8,\n",
              "  'eventuais': 0.0,\n",
              "  'lotacao': 'COMISSIONADO - GABINETE',\n",
              "  'matricula': '00100979',\n",
              "  'referencia': '09 / 2021',\n",
              "  'remuneracao': 2500.0,\n",
              "  'salario_liquido': 2254.2,\n",
              "  'servidor': 'ADRIANA EMIDIO DA SILVA',\n",
              "  'vinculo': 'CARGO COMISSIONADO'},\n",
              " {'abono': 0.0,\n",
              "  'cargo': 'SECRETARIO PARLAMENTAR',\n",
              "  'cpf': '***92442',\n",
              "  'desconto': 541.0,\n",
              "  'eventuais': 0.0,\n",
              "  'lotacao': 'COMISSIONADO - GABINETE',\n",
              "  'matricula': '00100683',\n",
              "  'referencia': '09 / 2021',\n",
              "  'remuneracao': 3800.0,\n",
              "  'salario_liquido': 3259.0,\n",
              "  'servidor': 'ADRYAN PEREIRA DE OLIVEIRA TENORIO',\n",
              "  'vinculo': 'CARGO COMISSIONADO'},\n",
              " {'abono': 495.22,\n",
              "  'cargo': 'ASSISTENTE ADMINISTRATIVO',\n",
              "  'cpf': '***85404',\n",
              "  'desconto': 1460.4,\n",
              "  'eventuais': 1179.09,\n",
              "  'lotacao': 'CAMARA MUNICIPAL DE MACEIO',\n",
              "  'matricula': '00000015',\n",
              "  'referencia': '09 / 2021',\n",
              "  'remuneracao': 3537.26,\n",
              "  'salario_liquido': 3751.17,\n",
              "  'servidor': 'AGBEL CAVALCANTE DA SILVA',\n",
              "  'vinculo': 'ESTATUTARIO'},\n",
              " {'abono': 0.0,\n",
              "  'cargo': 'SECRETARIO PARLAMENTAR',\n",
              "  'cpf': '***65434',\n",
              "  'desconto': 1771.56,\n",
              "  'eventuais': 0.0,\n",
              "  'lotacao': 'COMISSIONADO - GABINETE',\n",
              "  'matricula': '00100836',\n",
              "  'referencia': '09 / 2021',\n",
              "  'remuneracao': 8000.0,\n",
              "  'salario_liquido': 6228.44,\n",
              "  'servidor': 'AGUINALDO JOSE ALMEIDA DA SILVA',\n",
              "  'vinculo': 'CARGO COMISSIONADO'},\n",
              " {'abono': 0.0,\n",
              "  'cargo': 'SECRETARIO PARLAMENTAR',\n",
              "  'cpf': '***89401',\n",
              "  'desconto': 460.3,\n",
              "  'eventuais': 0.0,\n",
              "  'lotacao': 'COMISSIONADO - GABINETE',\n",
              "  'matricula': '00101045',\n",
              "  'referencia': '09 / 2021',\n",
              "  'remuneracao': 3500.0,\n",
              "  'salario_liquido': 3039.7,\n",
              "  'servidor': 'AILTON CANDIDO DOS SANTOS',\n",
              "  'vinculo': 'CARGO COMISSIONADO'},\n",
              " {'abono': 0.0,\n",
              "  'cargo': 'CARGOS DE NATUREZA ESPECIAL',\n",
              "  'cpf': '***04489',\n",
              "  'desconto': 199.3,\n",
              "  'eventuais': 0.0,\n",
              "  'lotacao': 'MESA',\n",
              "  'matricula': '00092236',\n",
              "  'referencia': '09 / 2021',\n",
              "  'remuneracao': 2250.0,\n",
              "  'salario_liquido': 2050.7,\n",
              "  'servidor': 'ALAN BARRETO DE CARVALHO FILHO',\n",
              "  'vinculo': 'CARGO COMISSIONADO'},\n",
              " {'abono': 0.0,\n",
              "  'cargo': 'CARGOS DE NATUREZA ESPECIAL',\n",
              "  'cpf': '***53432',\n",
              "  'desconto': 916.12,\n",
              "  'eventuais': 0.0,\n",
              "  'lotacao': 'MESA',\n",
              "  'matricula': '00092212',\n",
              "  'referencia': '09 / 2021',\n",
              "  'remuneracao': 5000.0,\n",
              "  'salario_liquido': 4083.88,\n",
              "  'servidor': 'ALAN DA SILVA RAMOS',\n",
              "  'vinculo': 'CARGO COMISSIONADO'},\n",
              " {'abono': 0.0,\n",
              "  'cargo': 'VEREADOR',\n",
              "  'cpf': '***60459',\n",
              "  'desconto': 8317.45,\n",
              "  'eventuais': 0.0,\n",
              "  'lotacao': 'VEREADOR',\n",
              "  'matricula': '00002155',\n",
              "  'referencia': '09 / 2021',\n",
              "  'remuneracao': 15031.76,\n",
              "  'salario_liquido': 6714.31,\n",
              "  'servidor': 'ALAN HELTON DE OMENA BALBINO',\n",
              "  'vinculo': 'VEREADOR'},\n",
              " {'abono': 0.0,\n",
              "  'cargo': 'SECRETARIO PARLAMENTAR',\n",
              "  'cpf': '***69428',\n",
              "  'desconto': 649.32,\n",
              "  'eventuais': 0.0,\n",
              "  'lotacao': 'COMISSIONADO - GABINETE',\n",
              "  'matricula': '00100793',\n",
              "  'referencia': '09 / 2021',\n",
              "  'remuneracao': 4200.0,\n",
              "  'salario_liquido': 3550.68,\n",
              "  'servidor': 'ALAN THIAGO SILVA FEITOSA',\n",
              "  'vinculo': 'CARGO COMISSIONADO'},\n",
              " {'abono': 0.0,\n",
              "  'cargo': 'SECRETARIO PARLAMENTAR',\n",
              "  'cpf': '***54468',\n",
              "  'desconto': 245.8,\n",
              "  'eventuais': 0.0,\n",
              "  'lotacao': 'COMISSIONADO - GABINETE',\n",
              "  'matricula': '00101030',\n",
              "  'referencia': '09 / 2021',\n",
              "  'remuneracao': 2500.0,\n",
              "  'salario_liquido': 2254.2,\n",
              "  'servidor': 'ALANDENIS TENORIO DA SILVA FILHO',\n",
              "  'vinculo': 'CARGO COMISSIONADO'},\n",
              " {'abono': 0.0,\n",
              "  'cargo': 'SECRETARIO PARLAMENTAR',\n",
              "  'cpf': '***36452',\n",
              "  'desconto': 749.37,\n",
              "  'eventuais': 0.0,\n",
              "  'lotacao': 'COMISSIONADO - GABINETE',\n",
              "  'matricula': '00100999',\n",
              "  'referencia': '09 / 2021',\n",
              "  'remuneracao': 4500.0,\n",
              "  'salario_liquido': 3750.63,\n",
              "  'servidor': 'ALANN FABRICIO DE MELO SALUSTIANO',\n",
              "  'vinculo': 'CARGO COMISSIONADO'},\n",
              " {'abono': 4964.7,\n",
              "  'cargo': 'PROCURADOR',\n",
              "  'cpf': '***47487',\n",
              "  'desconto': 23097.05,\n",
              "  'eventuais': 0.0,\n",
              "  'lotacao': 'CAMARA MUNICIPAL DE MACEIO',\n",
              "  'matricula': '00000018',\n",
              "  'referencia': '09 / 2021',\n",
              "  'remuneracao': 35462.11,\n",
              "  'salario_liquido': 17329.76,\n",
              "  'servidor': 'ALDO FONTAN SILVA',\n",
              "  'vinculo': 'ESTATUTARIO'},\n",
              " {'abono': 0.0,\n",
              "  'cargo': 'VEREADOR',\n",
              "  'cpf': '***72434',\n",
              "  'desconto': 7174.37,\n",
              "  'eventuais': 0.0,\n",
              "  'lotacao': 'VEREADOR',\n",
              "  'matricula': '00002146',\n",
              "  'referencia': '09 / 2021',\n",
              "  'remuneracao': 15031.76,\n",
              "  'salario_liquido': 7857.39,\n",
              "  'servidor': 'ALDO ROBERTO DA ROCHA LOUREIRO',\n",
              "  'vinculo': 'VEREADOR'}]"
            ]
          },
          "metadata": {},
          "execution_count": 142
        }
      ]
    },
    {
      "cell_type": "markdown",
      "metadata": {
        "id": "Y1mWS2EO9W1w"
      },
      "source": [
        "### Converter lista de dicionários em DataFrame"
      ]
    },
    {
      "cell_type": "code",
      "metadata": {
        "id": "Gnwfbb023nu-",
        "colab": {
          "base_uri": "https://localhost:8080/"
        },
        "outputId": "1c0e08d5-365d-464c-8c98-0c17bef456ae"
      },
      "source": [
        "df_servidores = pd.DataFrame(dados_servidores)\n",
        "\n",
        "df_servidores.info()"
      ],
      "execution_count": 143,
      "outputs": [
        {
          "output_type": "stream",
          "name": "stdout",
          "text": [
            "<class 'pandas.core.frame.DataFrame'>\n",
            "RangeIndex: 20 entries, 0 to 19\n",
            "Data columns (total 12 columns):\n",
            " #   Column           Non-Null Count  Dtype  \n",
            "---  ------           --------------  -----  \n",
            " 0   matricula        20 non-null     object \n",
            " 1   referencia       20 non-null     object \n",
            " 2   vinculo          20 non-null     object \n",
            " 3   servidor         20 non-null     object \n",
            " 4   cargo            20 non-null     object \n",
            " 5   cpf              20 non-null     object \n",
            " 6   lotacao          20 non-null     object \n",
            " 7   remuneracao      20 non-null     float64\n",
            " 8   abono            20 non-null     float64\n",
            " 9   eventuais        20 non-null     float64\n",
            " 10  desconto         20 non-null     float64\n",
            " 11  salario_liquido  20 non-null     float64\n",
            "dtypes: float64(5), object(7)\n",
            "memory usage: 2.0+ KB\n"
          ]
        }
      ]
    },
    {
      "cell_type": "code",
      "metadata": {
        "id": "Tr3Mg2Av_3Jm",
        "colab": {
          "base_uri": "https://localhost:8080/",
          "height": 369
        },
        "outputId": "dd073814-81ed-4f7b-98db-af06510f9550"
      },
      "source": [
        "df_servidores.head()"
      ],
      "execution_count": null,
      "outputs": [
        {
          "output_type": "execute_result",
          "data": {
            "text/html": [
              "<div>\n",
              "<style scoped>\n",
              "    .dataframe tbody tr th:only-of-type {\n",
              "        vertical-align: middle;\n",
              "    }\n",
              "\n",
              "    .dataframe tbody tr th {\n",
              "        vertical-align: top;\n",
              "    }\n",
              "\n",
              "    .dataframe thead th {\n",
              "        text-align: right;\n",
              "    }\n",
              "</style>\n",
              "<table border=\"1\" class=\"dataframe\">\n",
              "  <thead>\n",
              "    <tr style=\"text-align: right;\">\n",
              "      <th></th>\n",
              "      <th>matricula</th>\n",
              "      <th>referencia</th>\n",
              "      <th>vinculo</th>\n",
              "      <th>servidor</th>\n",
              "      <th>cargo</th>\n",
              "      <th>cpf</th>\n",
              "      <th>lotacao</th>\n",
              "      <th>remuneracao</th>\n",
              "      <th>abono</th>\n",
              "      <th>eventuais</th>\n",
              "      <th>desconto</th>\n",
              "      <th>salario_liquido</th>\n",
              "    </tr>\n",
              "  </thead>\n",
              "  <tbody>\n",
              "    <tr>\n",
              "      <th>0</th>\n",
              "      <td>00000019</td>\n",
              "      <td>09 / 2021</td>\n",
              "      <td>ESTATUTARIO</td>\n",
              "      <td>ALECY AMORIM DA SILVA</td>\n",
              "      <td>TECNICO LEGISLATIVO</td>\n",
              "      <td>***66468</td>\n",
              "      <td>CAMARA MUNICIPAL DE MACEIO</td>\n",
              "      <td>6168.6</td>\n",
              "      <td>0.0</td>\n",
              "      <td>0.0</td>\n",
              "      <td>1483.95</td>\n",
              "      <td>4684.65</td>\n",
              "    </tr>\n",
              "    <tr>\n",
              "      <th>1</th>\n",
              "      <td>00100674</td>\n",
              "      <td>09 / 2021</td>\n",
              "      <td>CARGO COMISSIONADO</td>\n",
              "      <td>ALESSANDRA LOUREIRO SIQUEIRA DE LEMOS</td>\n",
              "      <td>SECRETARIO PARLAMENTAR</td>\n",
              "      <td>***75440</td>\n",
              "      <td>COMISSIONADO - GABINETE</td>\n",
              "      <td>8000.0</td>\n",
              "      <td>0.0</td>\n",
              "      <td>0.0</td>\n",
              "      <td>1875.83</td>\n",
              "      <td>6124.17</td>\n",
              "    </tr>\n",
              "    <tr>\n",
              "      <th>2</th>\n",
              "      <td>00092187</td>\n",
              "      <td>09 / 2021</td>\n",
              "      <td>CARGO COMISSIONADO</td>\n",
              "      <td>ALESSANDRA TABOZA BARROS MOREIRA</td>\n",
              "      <td>CARGOS DE NATUREZA ESPECIAL</td>\n",
              "      <td>***04482</td>\n",
              "      <td>MESA</td>\n",
              "      <td>5000.0</td>\n",
              "      <td>0.0</td>\n",
              "      <td>0.0</td>\n",
              "      <td>916.12</td>\n",
              "      <td>4083.88</td>\n",
              "    </tr>\n",
              "    <tr>\n",
              "      <th>3</th>\n",
              "      <td>00100938</td>\n",
              "      <td>09 / 2021</td>\n",
              "      <td>CARGO COMISSIONADO</td>\n",
              "      <td>ALESSANDRO QUINTELA BRANDAO DE GUSMAO</td>\n",
              "      <td>SECRETARIO PARLAMENTAR</td>\n",
              "      <td>***89491</td>\n",
              "      <td>COMISSIONADO - GABINETE</td>\n",
              "      <td>8000.0</td>\n",
              "      <td>0.0</td>\n",
              "      <td>0.0</td>\n",
              "      <td>1875.83</td>\n",
              "      <td>6124.17</td>\n",
              "    </tr>\n",
              "    <tr>\n",
              "      <th>4</th>\n",
              "      <td>00092171</td>\n",
              "      <td>09 / 2021</td>\n",
              "      <td>CARGO COMISSIONADO</td>\n",
              "      <td>ALEX DE OLIVEIRA CAVALCANTE</td>\n",
              "      <td>CARGOS DE NATUREZA ESPECIAL</td>\n",
              "      <td>***51419</td>\n",
              "      <td>MESA</td>\n",
              "      <td>5000.0</td>\n",
              "      <td>0.0</td>\n",
              "      <td>0.0</td>\n",
              "      <td>916.12</td>\n",
              "      <td>4083.88</td>\n",
              "    </tr>\n",
              "  </tbody>\n",
              "</table>\n",
              "</div>"
            ],
            "text/plain": [
              "  matricula referencia  ... desconto salario_liquido\n",
              "0  00000019  09 / 2021  ...  1483.95         4684.65\n",
              "1  00100674  09 / 2021  ...  1875.83         6124.17\n",
              "2  00092187  09 / 2021  ...   916.12         4083.88\n",
              "3  00100938  09 / 2021  ...  1875.83         6124.17\n",
              "4  00092171  09 / 2021  ...   916.12         4083.88\n",
              "\n",
              "[5 rows x 12 columns]"
            ]
          },
          "metadata": {},
          "execution_count": 125
        }
      ]
    },
    {
      "cell_type": "markdown",
      "metadata": {
        "id": "pyf6d1R99jNj"
      },
      "source": [
        "### Exportando para .CSV"
      ]
    },
    {
      "cell_type": "code",
      "metadata": {
        "id": "0rOi8e92P87x"
      },
      "source": [
        "df_servidores.to_csv(\"salarios_servidores_camara_maceio.csv\")"
      ],
      "execution_count": 144,
      "outputs": []
    },
    {
      "cell_type": "markdown",
      "metadata": {
        "id": "tUuRwjbChj4R"
      },
      "source": [
        "### **Salvando dados no Google Sheets**"
      ]
    },
    {
      "cell_type": "code",
      "metadata": {
        "colab": {
          "base_uri": "https://localhost:8080/"
        },
        "id": "PJeNvw0Si6RM",
        "outputId": "c518afb9-47cc-4883-8efb-a77403ff345e"
      },
      "source": [
        "!pip install --upgrade gspread"
      ],
      "execution_count": 145,
      "outputs": [
        {
          "output_type": "stream",
          "name": "stdout",
          "text": [
            "Requirement already satisfied: gspread in /usr/local/lib/python3.7/dist-packages (4.0.1)\n",
            "Requirement already satisfied: google-auth>=1.12.0 in /usr/local/lib/python3.7/dist-packages (from gspread) (1.35.0)\n",
            "Requirement already satisfied: google-auth-oauthlib>=0.4.1 in /usr/local/lib/python3.7/dist-packages (from gspread) (0.4.6)\n",
            "Requirement already satisfied: six>=1.9.0 in /usr/local/lib/python3.7/dist-packages (from google-auth>=1.12.0->gspread) (1.15.0)\n",
            "Requirement already satisfied: pyasn1-modules>=0.2.1 in /usr/local/lib/python3.7/dist-packages (from google-auth>=1.12.0->gspread) (0.2.8)\n",
            "Requirement already satisfied: setuptools>=40.3.0 in /usr/local/lib/python3.7/dist-packages (from google-auth>=1.12.0->gspread) (57.4.0)\n",
            "Requirement already satisfied: rsa<5,>=3.1.4 in /usr/local/lib/python3.7/dist-packages (from google-auth>=1.12.0->gspread) (4.7.2)\n",
            "Requirement already satisfied: cachetools<5.0,>=2.0.0 in /usr/local/lib/python3.7/dist-packages (from google-auth>=1.12.0->gspread) (4.2.4)\n",
            "Requirement already satisfied: requests-oauthlib>=0.7.0 in /usr/local/lib/python3.7/dist-packages (from google-auth-oauthlib>=0.4.1->gspread) (1.3.0)\n",
            "Requirement already satisfied: pyasn1<0.5.0,>=0.4.6 in /usr/local/lib/python3.7/dist-packages (from pyasn1-modules>=0.2.1->google-auth>=1.12.0->gspread) (0.4.8)\n",
            "Requirement already satisfied: requests>=2.0.0 in /usr/local/lib/python3.7/dist-packages (from requests-oauthlib>=0.7.0->google-auth-oauthlib>=0.4.1->gspread) (2.23.0)\n",
            "Requirement already satisfied: oauthlib>=3.0.0 in /usr/local/lib/python3.7/dist-packages (from requests-oauthlib>=0.7.0->google-auth-oauthlib>=0.4.1->gspread) (3.1.1)\n",
            "Requirement already satisfied: idna<3,>=2.5 in /usr/local/lib/python3.7/dist-packages (from requests>=2.0.0->requests-oauthlib>=0.7.0->google-auth-oauthlib>=0.4.1->gspread) (2.10)\n",
            "Requirement already satisfied: certifi>=2017.4.17 in /usr/local/lib/python3.7/dist-packages (from requests>=2.0.0->requests-oauthlib>=0.7.0->google-auth-oauthlib>=0.4.1->gspread) (2021.5.30)\n",
            "Requirement already satisfied: urllib3!=1.25.0,!=1.25.1,<1.26,>=1.21.1 in /usr/local/lib/python3.7/dist-packages (from requests>=2.0.0->requests-oauthlib>=0.7.0->google-auth-oauthlib>=0.4.1->gspread) (1.24.3)\n",
            "Requirement already satisfied: chardet<4,>=3.0.2 in /usr/local/lib/python3.7/dist-packages (from requests>=2.0.0->requests-oauthlib>=0.7.0->google-auth-oauthlib>=0.4.1->gspread) (3.0.4)\n"
          ]
        }
      ]
    },
    {
      "cell_type": "code",
      "metadata": {
        "id": "WfVw5QMxhjMY"
      },
      "source": [
        "from google.colab import auth\n",
        "auth.authenticate_user()\n",
        "\n",
        "import gspread\n",
        "from oauth2client.client import GoogleCredentials\n",
        "\n",
        "gc = gspread.authorize(GoogleCredentials.get_application_default())\n",
        "\n"
      ],
      "execution_count": 146,
      "outputs": []
    },
    {
      "cell_type": "markdown",
      "metadata": {
        "id": "6yxvlOJOHkcU"
      },
      "source": [
        "### criando nova planilha"
      ]
    },
    {
      "cell_type": "code",
      "metadata": {
        "id": "roPs4EskjIE9"
      },
      "source": [
        "planilha = gc.create('Pagamentos Servidores - Câmara Maceió') "
      ],
      "execution_count": null,
      "outputs": []
    },
    {
      "cell_type": "markdown",
      "metadata": {
        "id": "K_38pe4UHoZI"
      },
      "source": [
        "### exportando dados para o sheets"
      ]
    },
    {
      "cell_type": "code",
      "metadata": {
        "id": "xOy-C-cEjWKh"
      },
      "source": [
        "# abrindo a planilha do Google Sheets com o link\n",
        "planilha_servidores = gc.open_by_url(\"https://docs.google.com/spreadsheets/d/1cesTMLm5JDOjm-YH96sMH3zrJMzmyGEXi_elE2SbxQY\")\n",
        "\n",
        "quantidade_registros = int(len(df_servidores)) # variável com a quantidade de registros do dataframe\n",
        "\n",
        "# criando nova página (aba) dentro da planilha aberta\n",
        "nova_pagina_registros = planilha_servidores.add_worksheet(f\"{quantidade_registros} registros - 08/10/21\", rows=quantidade_registros, cols=12)\n",
        "\n",
        "nova_pagina_registros.update([df_servidores.columns.values.tolist()] + df_servidores.values.tolist())"
      ],
      "execution_count": null,
      "outputs": []
    }
  ]
}