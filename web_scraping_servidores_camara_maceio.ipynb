{
  "nbformat": 4,
  "nbformat_minor": 0,
  "metadata": {
    "colab": {
      "name": "web scraping - servidores camara maceio",
      "provenance": [],
      "include_colab_link": true
    },
    "kernelspec": {
      "name": "python3",
      "display_name": "Python 3"
    },
    "language_info": {
      "name": "python"
    }
  },
  "cells": [
    {
      "cell_type": "markdown",
      "metadata": {
        "id": "view-in-github",
        "colab_type": "text"
      },
      "source": [
        "<a href=\"https://colab.research.google.com/github/lucasthaynan/servidores-camara-maceio/blob/main/web_scraping_servidores_camara_maceio.ipynb\" target=\"_parent\"><img src=\"https://colab.research.google.com/assets/colab-badge.svg\" alt=\"Open In Colab\"/></a>"
      ]
    },
    {
      "cell_type": "markdown",
      "metadata": {
        "id": "c0sUZQnKPOca"
      },
      "source": [
        "## Raspando dados das páginas de remuneração dos servidores da Câmara Municipal de Maceió (AL)\n",
        "https://www.maceio.al.leg.br/transparencia/portal/salarios-subsidios"
      ]
    },
    {
      "cell_type": "markdown",
      "metadata": {
        "id": "t4W2mpUBSxiR"
      },
      "source": [
        "Instalando a biblioteca `tdqm` que permite adicionar uma barra de progresso ao executar um for, além da `google.auth` para acesso as APIs do Google e `gspread` que conecta com o Google Sheets"
      ]
    },
    {
      "cell_type": "code",
      "metadata": {
        "id": "7cQpwwjqkB_k"
      },
      "source": [
        "!pip install tqdm"
      ],
      "execution_count": null,
      "outputs": []
    },
    {
      "cell_type": "code",
      "metadata": {
        "id": "UBib3r8GSIQU"
      },
      "source": [
        "!pip install --upgrade gspread"
      ],
      "execution_count": null,
      "outputs": []
    },
    {
      "cell_type": "code",
      "metadata": {
        "id": "LyTed1IXYtI2"
      },
      "source": [
        "!pip install google.auth"
      ],
      "execution_count": null,
      "outputs": []
    },
    {
      "cell_type": "code",
      "metadata": {
        "id": "9mgK67iQHWc3"
      },
      "source": [
        "import requests\n",
        "import re\n",
        "import pandas as pd\n",
        "\n",
        "from tqdm import tqdm\n",
        "import gspread\n",
        "from google.oauth2.service_account import Credentials"
      ],
      "execution_count": 3,
      "outputs": []
    },
    {
      "cell_type": "markdown",
      "metadata": {
        "id": "566Nqm7YTitB"
      },
      "source": [
        "Acessando a lista de páginas e coletando os links referentes a cada pagamento mensal dos servidores. Com isso, gera uma lista com todos os links"
      ]
    },
    {
      "cell_type": "code",
      "metadata": {
        "id": "5GyfXRPgd0x-"
      },
      "source": [
        "\n",
        "def pega_links_servidores(paginas=1):\n",
        "  \"\"\"Função que percorre as páginas e gera uma lista de links dos servidores\"\"\" # docstring\n",
        "  \n",
        "  lista_paginacao = list(range(1, (paginas + 1))) # cria sequência de números [1, 2, 3,...]\n",
        "\n",
        "  lista_links = []\n",
        "  for pagina in tqdm(lista_paginacao):\n",
        "    url = f\"https://www.maceio.al.leg.br/transparencia/portal/salarios-subsidios&pagina={pagina}\"\n",
        "    resposta = requests.get(url)\n",
        "    html = resposta.text\n",
        "\n",
        "    links_pagina = re.findall(\"location.href = '([^']+)';\", html)\n",
        "    lista_links = links_pagina + lista_links\n",
        "    \n",
        "  return lista_links\n",
        "  "
      ],
      "execution_count": 4,
      "outputs": []
    },
    {
      "cell_type": "code",
      "metadata": {
        "colab": {
          "base_uri": "https://localhost:8080/"
        },
        "id": "PipWvKs4KVw4",
        "outputId": "52d4893d-1130-41b2-f19f-32fe580c9f62"
      },
      "source": [
        "# chamando a função e passando a como parâmetro a quantidade de páginas da requisição\n",
        "\n",
        "todos_os_links = pega_links_servidores(2)\n",
        "\n",
        "todos_os_links"
      ],
      "execution_count": 5,
      "outputs": [
        {
          "output_type": "stream",
          "name": "stderr",
          "text": [
            "100%|██████████| 2/2 [00:03<00:00,  1.99s/it]\n"
          ]
        },
        {
          "output_type": "execute_result",
          "data": {
            "text/plain": [
              "['https://www.maceio.al.leg.br/transparencia/portal/salarios-subsidios-detalhes&matricula=19&mes=9&ano=2021',\n",
              " 'https://www.maceio.al.leg.br/transparencia/portal/salarios-subsidios-detalhes&matricula=100674&mes=9&ano=2021',\n",
              " 'https://www.maceio.al.leg.br/transparencia/portal/salarios-subsidios-detalhes&matricula=92187&mes=9&ano=2021',\n",
              " 'https://www.maceio.al.leg.br/transparencia/portal/salarios-subsidios-detalhes&matricula=100938&mes=9&ano=2021',\n",
              " 'https://www.maceio.al.leg.br/transparencia/portal/salarios-subsidios-detalhes&matricula=92171&mes=9&ano=2021',\n",
              " 'https://www.maceio.al.leg.br/transparencia/portal/salarios-subsidios-detalhes&matricula=101024&mes=9&ano=2021',\n",
              " 'https://www.maceio.al.leg.br/transparencia/portal/salarios-subsidios-detalhes&matricula=100770&mes=9&ano=2021',\n",
              " 'https://www.maceio.al.leg.br/transparencia/portal/salarios-subsidios-detalhes&matricula=92178&mes=9&ano=2021',\n",
              " 'https://www.maceio.al.leg.br/transparencia/portal/salarios-subsidios-detalhes&matricula=100891&mes=9&ano=2021',\n",
              " 'https://www.maceio.al.leg.br/transparencia/portal/salarios-subsidios-detalhes&matricula=101163&mes=9&ano=2021',\n",
              " 'https://www.maceio.al.leg.br/transparencia/portal/salarios-subsidios-detalhes&matricula=25&mes=9&ano=2021',\n",
              " 'https://www.maceio.al.leg.br/transparencia/portal/salarios-subsidios-detalhes&matricula=101081&mes=9&ano=2021',\n",
              " 'https://www.maceio.al.leg.br/transparencia/portal/salarios-subsidios-detalhes&matricula=92191&mes=9&ano=2021',\n",
              " 'https://www.maceio.al.leg.br/transparencia/portal/salarios-subsidios-detalhes&matricula=100838&mes=9&ano=2021',\n",
              " 'https://www.maceio.al.leg.br/transparencia/portal/salarios-subsidios-detalhes&matricula=101020&mes=9&ano=2021',\n",
              " 'https://www.maceio.al.leg.br/transparencia/portal/salarios-subsidios-detalhes&matricula=92239&mes=9&ano=2021',\n",
              " 'https://www.maceio.al.leg.br/transparencia/portal/salarios-subsidios-detalhes&matricula=35&mes=9&ano=2021',\n",
              " 'https://www.maceio.al.leg.br/transparencia/portal/salarios-subsidios-detalhes&matricula=101027&mes=9&ano=2021',\n",
              " 'https://www.maceio.al.leg.br/transparencia/portal/salarios-subsidios-detalhes&matricula=92238&mes=9&ano=2021',\n",
              " 'https://www.maceio.al.leg.br/transparencia/portal/salarios-subsidios-detalhes&matricula=36&mes=9&ano=2021',\n",
              " 'https://www.maceio.al.leg.br/transparencia/portal/salarios-subsidios-detalhes&matricula=100945&mes=9&ano=2021',\n",
              " 'https://www.maceio.al.leg.br/transparencia/portal/salarios-subsidios-detalhes&matricula=101159&mes=9&ano=2021',\n",
              " 'https://www.maceio.al.leg.br/transparencia/portal/salarios-subsidios-detalhes&matricula=100734&mes=9&ano=2021',\n",
              " 'https://www.maceio.al.leg.br/transparencia/portal/salarios-subsidios-detalhes&matricula=100664&mes=9&ano=2021',\n",
              " 'https://www.maceio.al.leg.br/transparencia/portal/salarios-subsidios-detalhes&matricula=100869&mes=9&ano=2021',\n",
              " 'https://www.maceio.al.leg.br/transparencia/portal/salarios-subsidios-detalhes&matricula=101116&mes=9&ano=2021',\n",
              " 'https://www.maceio.al.leg.br/transparencia/portal/salarios-subsidios-detalhes&matricula=100739&mes=9&ano=2021',\n",
              " 'https://www.maceio.al.leg.br/transparencia/portal/salarios-subsidios-detalhes&matricula=100979&mes=9&ano=2021',\n",
              " 'https://www.maceio.al.leg.br/transparencia/portal/salarios-subsidios-detalhes&matricula=100683&mes=9&ano=2021',\n",
              " 'https://www.maceio.al.leg.br/transparencia/portal/salarios-subsidios-detalhes&matricula=15&mes=9&ano=2021',\n",
              " 'https://www.maceio.al.leg.br/transparencia/portal/salarios-subsidios-detalhes&matricula=100836&mes=9&ano=2021',\n",
              " 'https://www.maceio.al.leg.br/transparencia/portal/salarios-subsidios-detalhes&matricula=101045&mes=9&ano=2021',\n",
              " 'https://www.maceio.al.leg.br/transparencia/portal/salarios-subsidios-detalhes&matricula=92236&mes=9&ano=2021',\n",
              " 'https://www.maceio.al.leg.br/transparencia/portal/salarios-subsidios-detalhes&matricula=92212&mes=9&ano=2021',\n",
              " 'https://www.maceio.al.leg.br/transparencia/portal/salarios-subsidios-detalhes&matricula=2155&mes=9&ano=2021',\n",
              " 'https://www.maceio.al.leg.br/transparencia/portal/salarios-subsidios-detalhes&matricula=100793&mes=9&ano=2021',\n",
              " 'https://www.maceio.al.leg.br/transparencia/portal/salarios-subsidios-detalhes&matricula=101030&mes=9&ano=2021',\n",
              " 'https://www.maceio.al.leg.br/transparencia/portal/salarios-subsidios-detalhes&matricula=100999&mes=9&ano=2021',\n",
              " 'https://www.maceio.al.leg.br/transparencia/portal/salarios-subsidios-detalhes&matricula=18&mes=9&ano=2021',\n",
              " 'https://www.maceio.al.leg.br/transparencia/portal/salarios-subsidios-detalhes&matricula=2146&mes=9&ano=2021']"
            ]
          },
          "metadata": {},
          "execution_count": 5
        }
      ]
    },
    {
      "cell_type": "markdown",
      "metadata": {
        "id": "q99lnomcTvXw"
      },
      "source": [
        "Acessando cada uma das páginas dos servidores e coletando as informações de pagamento"
      ]
    },
    {
      "cell_type": "code",
      "metadata": {
        "id": "szT7x71KToiX"
      },
      "source": [
        "\n",
        "def raspador():\n",
        "  \"\"\"Função que percorre os links da lista e extrai as informações dos servidores\"\"\"\n",
        "\n",
        "  def convert_moeda_float(valor):\n",
        "    \"\"\"Função que transforma os valores em float\"\"\"\n",
        "\n",
        "    valor = valor[1].replace(\"R$ \", \"\").replace(\".\", \"\").replace(\",\", \".\")\n",
        "    valor = float(valor)\n",
        "    return valor\n",
        "\n",
        "  \n",
        "  lista_pag_servidores = []\n",
        "\n",
        "  # percorrendo a lista de links e extraindo o html  \n",
        "  for link in tqdm(todos_os_links): \n",
        "    resposta = requests.get(link)\n",
        "    html = resposta.text\n",
        "    partes = html.split(\"</td>\") # divindo o html em partes e salvando em uma lista \"partes\"\n",
        "\n",
        "    # salvando valores em variáveis\n",
        "    matricula = partes[1].split(\"td>\")     \n",
        "    referencia = partes[3].split(\"td>\") \n",
        "    vinculo = partes[5].split(\"td>\")\n",
        "    servidor = partes[7].split(\"td>\")\n",
        "    cargo = partes[9].split(\"td>\")\n",
        "    cpf = partes[11].split(\"td>\")\n",
        "    lotacao = partes[13].split(\"td>\")\n",
        "\n",
        "    remuneracao = partes[15].split(\"td>\")\n",
        "    remuneracao = convert_moeda_float(partes[15].split(\"td>\"))\n",
        "\n",
        "    abono = partes[17].split(\"td>\")\n",
        "    abono = convert_moeda_float(partes[17].split(\"td>\"))\n",
        "\n",
        "    eventuais = partes[19].split(\"td>\")\n",
        "    eventuais = convert_moeda_float(partes[19].split(\"td>\"))\n",
        "\n",
        "    desconto = partes[21].split(\"td>\")\n",
        "    desconto = convert_moeda_float(desconto)\n",
        "\n",
        "    salario_liquido = partes[23].split(\"td>\")\n",
        "    salario_liquido = convert_moeda_float(salario_liquido)\n",
        "\n",
        "    lista_pag_servidores.append({\n",
        "      \"matricula\": matricula[1],\n",
        "      \"referencia\": referencia[1],\n",
        "      \"vinculo\": vinculo[1],\n",
        "      \"servidor\": servidor[1],\n",
        "      \"cargo\": cargo[1],\n",
        "      \"cpf\": cpf[1],\n",
        "      \"lotacao\": lotacao[1],\n",
        "      \"remuneracao\": remuneracao,\n",
        "      \"abono\": abono,\n",
        "      \"eventuais\": eventuais,\n",
        "      \"desconto\": desconto,\n",
        "      \"salario_liquido\": salario_liquido\n",
        "    }) \n",
        "  \n",
        "  return lista_pag_servidores\n",
        "\n"
      ],
      "execution_count": 6,
      "outputs": []
    },
    {
      "cell_type": "code",
      "metadata": {
        "id": "IjDWoynlP9of"
      },
      "source": [
        "dados_servidores = raspador()\n",
        "dados_servidores"
      ],
      "execution_count": null,
      "outputs": []
    },
    {
      "cell_type": "markdown",
      "metadata": {
        "id": "Y1mWS2EO9W1w"
      },
      "source": [
        "### Converter lista de dicionários em DataFrame"
      ]
    },
    {
      "cell_type": "code",
      "metadata": {
        "id": "Gnwfbb023nu-",
        "colab": {
          "base_uri": "https://localhost:8080/"
        },
        "outputId": "655b97dc-bb0c-4264-e619-8d89d5a05041"
      },
      "source": [
        "df_servidores = pd.DataFrame(dados_servidores)\n",
        "\n",
        "df_servidores.info()"
      ],
      "execution_count": 8,
      "outputs": [
        {
          "output_type": "stream",
          "name": "stdout",
          "text": [
            "<class 'pandas.core.frame.DataFrame'>\n",
            "RangeIndex: 40 entries, 0 to 39\n",
            "Data columns (total 12 columns):\n",
            " #   Column           Non-Null Count  Dtype  \n",
            "---  ------           --------------  -----  \n",
            " 0   matricula        40 non-null     object \n",
            " 1   referencia       40 non-null     object \n",
            " 2   vinculo          40 non-null     object \n",
            " 3   servidor         40 non-null     object \n",
            " 4   cargo            40 non-null     object \n",
            " 5   cpf              40 non-null     object \n",
            " 6   lotacao          40 non-null     object \n",
            " 7   remuneracao      40 non-null     float64\n",
            " 8   abono            40 non-null     float64\n",
            " 9   eventuais        40 non-null     float64\n",
            " 10  desconto         40 non-null     float64\n",
            " 11  salario_liquido  40 non-null     float64\n",
            "dtypes: float64(5), object(7)\n",
            "memory usage: 3.9+ KB\n"
          ]
        }
      ]
    },
    {
      "cell_type": "code",
      "metadata": {
        "id": "Tr3Mg2Av_3Jm",
        "colab": {
          "base_uri": "https://localhost:8080/",
          "height": 450
        },
        "outputId": "630877c3-4538-4ca5-89aa-e88958b0916e"
      },
      "source": [
        "df_servidores.head()"
      ],
      "execution_count": 9,
      "outputs": [
        {
          "output_type": "execute_result",
          "data": {
            "text/html": [
              "<div>\n",
              "<style scoped>\n",
              "    .dataframe tbody tr th:only-of-type {\n",
              "        vertical-align: middle;\n",
              "    }\n",
              "\n",
              "    .dataframe tbody tr th {\n",
              "        vertical-align: top;\n",
              "    }\n",
              "\n",
              "    .dataframe thead th {\n",
              "        text-align: right;\n",
              "    }\n",
              "</style>\n",
              "<table border=\"1\" class=\"dataframe\">\n",
              "  <thead>\n",
              "    <tr style=\"text-align: right;\">\n",
              "      <th></th>\n",
              "      <th>matricula</th>\n",
              "      <th>referencia</th>\n",
              "      <th>vinculo</th>\n",
              "      <th>servidor</th>\n",
              "      <th>cargo</th>\n",
              "      <th>cpf</th>\n",
              "      <th>lotacao</th>\n",
              "      <th>remuneracao</th>\n",
              "      <th>abono</th>\n",
              "      <th>eventuais</th>\n",
              "      <th>desconto</th>\n",
              "      <th>salario_liquido</th>\n",
              "    </tr>\n",
              "  </thead>\n",
              "  <tbody>\n",
              "    <tr>\n",
              "      <th>0</th>\n",
              "      <td>00000019</td>\n",
              "      <td>09 / 2021</td>\n",
              "      <td>ESTATUTARIO</td>\n",
              "      <td>ALECY AMORIM DA SILVA</td>\n",
              "      <td>TECNICO LEGISLATIVO</td>\n",
              "      <td>***66468</td>\n",
              "      <td>CAMARA MUNICIPAL DE MACEIO</td>\n",
              "      <td>6168.6</td>\n",
              "      <td>0.0</td>\n",
              "      <td>0.0</td>\n",
              "      <td>1483.95</td>\n",
              "      <td>4684.65</td>\n",
              "    </tr>\n",
              "    <tr>\n",
              "      <th>1</th>\n",
              "      <td>00100674</td>\n",
              "      <td>09 / 2021</td>\n",
              "      <td>CARGO COMISSIONADO</td>\n",
              "      <td>ALESSANDRA LOUREIRO SIQUEIRA DE LEMOS</td>\n",
              "      <td>SECRETARIO PARLAMENTAR</td>\n",
              "      <td>***75440</td>\n",
              "      <td>COMISSIONADO - GABINETE</td>\n",
              "      <td>8000.0</td>\n",
              "      <td>0.0</td>\n",
              "      <td>0.0</td>\n",
              "      <td>1875.83</td>\n",
              "      <td>6124.17</td>\n",
              "    </tr>\n",
              "    <tr>\n",
              "      <th>2</th>\n",
              "      <td>00092187</td>\n",
              "      <td>09 / 2021</td>\n",
              "      <td>CARGO COMISSIONADO</td>\n",
              "      <td>ALESSANDRA TABOZA BARROS MOREIRA</td>\n",
              "      <td>CARGOS DE NATUREZA ESPECIAL</td>\n",
              "      <td>***04482</td>\n",
              "      <td>MESA</td>\n",
              "      <td>5000.0</td>\n",
              "      <td>0.0</td>\n",
              "      <td>0.0</td>\n",
              "      <td>916.12</td>\n",
              "      <td>4083.88</td>\n",
              "    </tr>\n",
              "    <tr>\n",
              "      <th>3</th>\n",
              "      <td>00100938</td>\n",
              "      <td>09 / 2021</td>\n",
              "      <td>CARGO COMISSIONADO</td>\n",
              "      <td>ALESSANDRO QUINTELA BRANDAO DE GUSMAO</td>\n",
              "      <td>SECRETARIO PARLAMENTAR</td>\n",
              "      <td>***89491</td>\n",
              "      <td>COMISSIONADO - GABINETE</td>\n",
              "      <td>8000.0</td>\n",
              "      <td>0.0</td>\n",
              "      <td>0.0</td>\n",
              "      <td>1875.83</td>\n",
              "      <td>6124.17</td>\n",
              "    </tr>\n",
              "    <tr>\n",
              "      <th>4</th>\n",
              "      <td>00092171</td>\n",
              "      <td>09 / 2021</td>\n",
              "      <td>CARGO COMISSIONADO</td>\n",
              "      <td>ALEX DE OLIVEIRA CAVALCANTE</td>\n",
              "      <td>CARGOS DE NATUREZA ESPECIAL</td>\n",
              "      <td>***51419</td>\n",
              "      <td>MESA</td>\n",
              "      <td>5000.0</td>\n",
              "      <td>0.0</td>\n",
              "      <td>0.0</td>\n",
              "      <td>916.12</td>\n",
              "      <td>4083.88</td>\n",
              "    </tr>\n",
              "  </tbody>\n",
              "</table>\n",
              "</div>"
            ],
            "text/plain": [
              "  matricula referencia  ... desconto salario_liquido\n",
              "0  00000019  09 / 2021  ...  1483.95         4684.65\n",
              "1  00100674  09 / 2021  ...  1875.83         6124.17\n",
              "2  00092187  09 / 2021  ...   916.12         4083.88\n",
              "3  00100938  09 / 2021  ...  1875.83         6124.17\n",
              "4  00092171  09 / 2021  ...   916.12         4083.88\n",
              "\n",
              "[5 rows x 12 columns]"
            ]
          },
          "metadata": {},
          "execution_count": 9
        }
      ]
    },
    {
      "cell_type": "markdown",
      "metadata": {
        "id": "pyf6d1R99jNj"
      },
      "source": [
        "### Exportando para .CSV"
      ]
    },
    {
      "cell_type": "code",
      "metadata": {
        "id": "0rOi8e92P87x"
      },
      "source": [
        "df_servidores.to_csv(\"salarios_servidores_camara_maceio.csv\")"
      ],
      "execution_count": 144,
      "outputs": []
    },
    {
      "cell_type": "markdown",
      "metadata": {
        "id": "tUuRwjbChj4R"
      },
      "source": [
        "### **Salvando dados no Google Sheets**"
      ]
    },
    {
      "cell_type": "code",
      "metadata": {
        "id": "WfVw5QMxhjMY"
      },
      "source": [
        "# tutorial para pegar Json da API do Google Sheets: https://www.youtube.com/watch?v=ddf5Z0aQPzY&t=171\n",
        "\n",
        "scopes = [\n",
        "    'https://www.googleapis.com/auth/spreadsheets',\n",
        "    'https://www.googleapis.com/auth/drive'\n",
        "]\n",
        "\n",
        "credentials = Credentials.from_service_account_file('Google Sheets API Key.json',scopes=scopes)\n",
        "\n",
        "gc = gspread.authorize(credentials)"
      ],
      "execution_count": 11,
      "outputs": []
    },
    {
      "cell_type": "markdown",
      "metadata": {
        "id": "6yxvlOJOHkcU"
      },
      "source": [
        "### criando nova planilha"
      ]
    },
    {
      "cell_type": "code",
      "metadata": {
        "id": "roPs4EskjIE9"
      },
      "source": [
        "planilha = gc.create('Pagamentos Servidores - Câmara Maceió') "
      ],
      "execution_count": null,
      "outputs": []
    },
    {
      "cell_type": "markdown",
      "metadata": {
        "id": "K_38pe4UHoZI"
      },
      "source": [
        "### exportando dados para o sheets"
      ]
    },
    {
      "cell_type": "code",
      "metadata": {
        "id": "xOy-C-cEjWKh",
        "colab": {
          "base_uri": "https://localhost:8080/"
        },
        "outputId": "7722e70f-0b75-47e8-db4f-4430fd6a0dc8"
      },
      "source": [
        "\n",
        "# abrindo a planilha do Google Sheets com o link\n",
        "planilha_servidores = gc.open(\"Pagamentos Servidores - Câmara Maceió\")\n",
        "\n",
        "quantidade_registros = int(len(df_servidores)) # variável com a quantidade de registros do dataframe\n",
        "\n",
        "# criando nova página (aba) dentro da planilha aberta\n",
        "nova_pagina_registros = planilha_servidores.add_worksheet(f\"{quantidade_registros} registros - 10/10/21\", rows=quantidade_registros, cols=12)\n",
        "\n",
        "nova_pagina_registros.update([df_servidores.columns.values.tolist()] + df_servidores.values.tolist())"
      ],
      "execution_count": 14,
      "outputs": [
        {
          "output_type": "execute_result",
          "data": {
            "text/plain": [
              "{'spreadsheetId': '1cesTMLm5JDOjm-YH96sMH3zrJMzmyGEXi_elE2SbxQY',\n",
              " 'updatedCells': 492,\n",
              " 'updatedColumns': 12,\n",
              " 'updatedRange': \"'40 registros - 10/10/21'!A1:L41\",\n",
              " 'updatedRows': 41}"
            ]
          },
          "metadata": {},
          "execution_count": 14
        }
      ]
    },
    {
      "cell_type": "code",
      "metadata": {
        "id": "WdbeAU9eXsrN"
      },
      "source": [
        ""
      ],
      "execution_count": null,
      "outputs": []
    }
  ]
}